{
 "cells": [
  {
   "cell_type": "markdown",
   "id": "6ae7c3a1",
   "metadata": {},
   "source": [
    "# A. Excercise Week 2"
   ]
  },
  {
   "cell_type": "markdown",
   "id": "62cdbdbf",
   "metadata": {},
   "source": [
    "# 1. Penerapan Metode Pada String, List, dan Dictionary"
   ]
  },
  {
   "cell_type": "markdown",
   "id": "65c590ad",
   "metadata": {},
   "source": [
    "# String"
   ]
  },
  {
   "cell_type": "markdown",
   "id": "9ee8f359",
   "metadata": {},
   "source": [
    " a) Menampilkan Kalimat Pada Tipe Data String (Print)"
   ]
  },
  {
   "cell_type": "code",
   "execution_count": 1,
   "id": "ed4cdf29",
   "metadata": {},
   "outputs": [
    {
     "name": "stdout",
     "output_type": "stream",
     "text": [
      "Hello! I am a data analyst.\n"
     ]
    }
   ],
   "source": [
    "str1 = \"Hello! I am a data analyst.\"\n",
    "print(str1)"
   ]
  },
  {
   "cell_type": "markdown",
   "id": "e431a14c",
   "metadata": {},
   "source": [
    "b) Menampilkan Panjang Pada String (Len)"
   ]
  },
  {
   "cell_type": "code",
   "execution_count": 2,
   "id": "3f08fa4d",
   "metadata": {},
   "outputs": [
    {
     "data": {
      "text/plain": [
       "27"
      ]
     },
     "execution_count": 2,
     "metadata": {},
     "output_type": "execute_result"
    }
   ],
   "source": [
    "str1 = \"Hello! I am a data analyst.\"\n",
    "len(str1)"
   ]
  },
  {
   "cell_type": "markdown",
   "id": "6bc9fd79",
   "metadata": {},
   "source": [
    "c) Mengakses Index Pada String (String Slices)"
   ]
  },
  {
   "cell_type": "code",
   "execution_count": 3,
   "id": "a3f7f0bc",
   "metadata": {},
   "outputs": [
    {
     "data": {
      "text/plain": [
       "'!'"
      ]
     },
     "execution_count": 3,
     "metadata": {},
     "output_type": "execute_result"
    }
   ],
   "source": [
    "str1 = \"Hello! I am a data analyst.\"\n",
    "str1[5]"
   ]
  },
  {
   "cell_type": "code",
   "execution_count": 4,
   "id": "8c0d8892",
   "metadata": {},
   "outputs": [
    {
     "data": {
      "text/plain": [
       "'Hel'"
      ]
     },
     "execution_count": 4,
     "metadata": {},
     "output_type": "execute_result"
    }
   ],
   "source": [
    "str1 = \"Hello! I am a data analyst.\"\n",
    "str1[0:3]"
   ]
  },
  {
   "cell_type": "code",
   "execution_count": 5,
   "id": "5bb5f569",
   "metadata": {},
   "outputs": [
    {
     "data": {
      "text/plain": [
       "'ata analyst.'"
      ]
     },
     "execution_count": 5,
     "metadata": {},
     "output_type": "execute_result"
    }
   ],
   "source": [
    "str1 = \"Hello! I am a data analyst.\"\n",
    "str1[15:]"
   ]
  },
  {
   "cell_type": "code",
   "execution_count": 6,
   "id": "28be579f",
   "metadata": {},
   "outputs": [
    {
     "data": {
      "text/plain": [
       "'Hello! '"
      ]
     },
     "execution_count": 6,
     "metadata": {},
     "output_type": "execute_result"
    }
   ],
   "source": [
    "str1 = \"Hello! I am a data analyst.\"\n",
    "str1[:7]"
   ]
  },
  {
   "cell_type": "markdown",
   "id": "7b61c59a",
   "metadata": {},
   "source": [
    "d) Mengubah Karakter Menjadi Karakter Lain Pada String (Replace)"
   ]
  },
  {
   "cell_type": "code",
   "execution_count": 7,
   "id": "62862399",
   "metadata": {},
   "outputs": [
    {
     "data": {
      "text/plain": [
       "'Hello! I am a data scientist.'"
      ]
     },
     "execution_count": 7,
     "metadata": {},
     "output_type": "execute_result"
    }
   ],
   "source": [
    "str1 = \"Hello! I am a data analyst.\"\n",
    "str1.replace(\"analyst\", \"scientist\")"
   ]
  },
  {
   "cell_type": "markdown",
   "id": "4b2f7eb4",
   "metadata": {},
   "source": [
    "e) Mencari Suatu Karakter Pada String (Find)"
   ]
  },
  {
   "cell_type": "code",
   "execution_count": 8,
   "id": "c267131b",
   "metadata": {},
   "outputs": [
    {
     "data": {
      "text/plain": [
       "0"
      ]
     },
     "execution_count": 8,
     "metadata": {},
     "output_type": "execute_result"
    }
   ],
   "source": [
    "str1 = \"Hello! I am a data analyst.\"\n",
    "str1.find(\"H\")"
   ]
  },
  {
   "cell_type": "markdown",
   "id": "145430f6",
   "metadata": {},
   "source": [
    "f) Membagi Karakter Pada Data String Oleh Pemisah Yang Di Tentukan (Split)"
   ]
  },
  {
   "cell_type": "code",
   "execution_count": 9,
   "id": "9a100ab6",
   "metadata": {},
   "outputs": [
    {
     "data": {
      "text/plain": [
       "['Langkah-Langkah', 'Data', 'Wrangling']"
      ]
     },
     "execution_count": 9,
     "metadata": {},
     "output_type": "execute_result"
    }
   ],
   "source": [
    "str2 = \"Langkah-Langkah Data Wrangling\"\n",
    "str2.split()"
   ]
  },
  {
   "cell_type": "markdown",
   "id": "69da3ca3",
   "metadata": {},
   "source": [
    "g) Menggabungkan Karakter Pada String (Join)"
   ]
  },
  {
   "cell_type": "code",
   "execution_count": 10,
   "id": "ca1a2deb",
   "metadata": {},
   "outputs": [
    {
     "data": {
      "text/plain": [
       "'Langkah-Langkah-Data-Wrangling'"
      ]
     },
     "execution_count": 10,
     "metadata": {},
     "output_type": "execute_result"
    }
   ],
   "source": [
    "str2 = \"Langkah-Langkah\", \"Data\", \"Wrangling\"\n",
    "j = \"-\"\n",
    "j.join(str2)"
   ]
  },
  {
   "cell_type": "markdown",
   "id": "87c2e18b",
   "metadata": {},
   "source": [
    "h) Menampilkan Berapa Kali Karakter Muncul Pada String (Count)"
   ]
  },
  {
   "cell_type": "code",
   "execution_count": 11,
   "id": "a8c7fb8f",
   "metadata": {},
   "outputs": [
    {
     "data": {
      "text/plain": [
       "2"
      ]
     },
     "execution_count": 11,
     "metadata": {},
     "output_type": "execute_result"
    }
   ],
   "source": [
    "str2 = \"Langkah-Langkah Data Wrangling\"\n",
    "str2.count(\"Langkah\")"
   ]
  },
  {
   "cell_type": "markdown",
   "id": "89fb4cc8",
   "metadata": {},
   "source": [
    "i)\tMengubah Karakter Pertama Menjadi Huruf Besar Pada String (Capitalize)"
   ]
  },
  {
   "cell_type": "code",
   "execution_count": 12,
   "id": "3e35000c",
   "metadata": {},
   "outputs": [
    {
     "data": {
      "text/plain": [
       "'Langkah-langkah data wrangling'"
      ]
     },
     "execution_count": 12,
     "metadata": {},
     "output_type": "execute_result"
    }
   ],
   "source": [
    "str2 = \"langkah-langkah data wrangling\"\n",
    "str2.capitalize()"
   ]
  },
  {
   "cell_type": "markdown",
   "id": "dd944b91",
   "metadata": {},
   "source": [
    "j)\tMengubah Karakter Pertama Setiap Kata Menjadi Huruf Besar Pada String (Title)"
   ]
  },
  {
   "cell_type": "code",
   "execution_count": 13,
   "id": "3c3c265c",
   "metadata": {},
   "outputs": [
    {
     "data": {
      "text/plain": [
       "'Langkah-Langkah Data Wrangling'"
      ]
     },
     "execution_count": 13,
     "metadata": {},
     "output_type": "execute_result"
    }
   ],
   "source": [
    "str2 = \"langkah-langkah data wrangling\"\n",
    "str2.title()"
   ]
  },
  {
   "cell_type": "markdown",
   "id": "67a798c8",
   "metadata": {},
   "source": [
    "k)\tMengubah Setiap Karakter Menjadi Huruf Besar Pada String (Upper)"
   ]
  },
  {
   "cell_type": "code",
   "execution_count": 14,
   "id": "c9d6cc75",
   "metadata": {},
   "outputs": [
    {
     "data": {
      "text/plain": [
       "'LANGKAH-LANGKAH DATA WRANGLING'"
      ]
     },
     "execution_count": 14,
     "metadata": {},
     "output_type": "execute_result"
    }
   ],
   "source": [
    "str2 = \"langkah-langkah data wrangling\"\n",
    "str2.upper()"
   ]
  },
  {
   "cell_type": "markdown",
   "id": "77bf8952",
   "metadata": {},
   "source": [
    "l)\tMengubah Karakter Menjadi Huruf Kecil Pada String (Lower)"
   ]
  },
  {
   "cell_type": "code",
   "execution_count": 15,
   "id": "0ab59a22",
   "metadata": {},
   "outputs": [
    {
     "data": {
      "text/plain": [
       "'langkah-langkah data wrangling'"
      ]
     },
     "execution_count": 15,
     "metadata": {},
     "output_type": "execute_result"
    }
   ],
   "source": [
    "str2 = \"langkah-langkah data wrangling\"\n",
    "str2.lower()"
   ]
  },
  {
   "cell_type": "markdown",
   "id": "0060bbf1",
   "metadata": {},
   "source": [
    "m)\tMengubah Setiap Karakter Huruf Besar Menjadi Huruf Kecil Dan Sebaliknya Pada String (Swapcase)"
   ]
  },
  {
   "cell_type": "code",
   "execution_count": 16,
   "id": "03e28e91",
   "metadata": {},
   "outputs": [
    {
     "data": {
      "text/plain": [
       "'lANGKAH-lANGKAH dATA wRANGLING'"
      ]
     },
     "execution_count": 16,
     "metadata": {},
     "output_type": "execute_result"
    }
   ],
   "source": [
    "str2 = \"Langkah-Langkah Data Wrangling\"\n",
    "str2.swapcase()"
   ]
  },
  {
   "cell_type": "markdown",
   "id": "449be295",
   "metadata": {},
   "source": [
    "n) Menghilangkan Spasi Pada String"
   ]
  },
  {
   "cell_type": "code",
   "execution_count": 17,
   "id": "f46d89b3",
   "metadata": {},
   "outputs": [
    {
     "data": {
      "text/plain": [
       "'Pengolahan Data Terstruktur'"
      ]
     },
     "execution_count": 17,
     "metadata": {},
     "output_type": "execute_result"
    }
   ],
   "source": [
    "str3 = \"   Pengolahan Data Terstruktur   \"\n",
    "str3.strip()"
   ]
  },
  {
   "cell_type": "code",
   "execution_count": 18,
   "id": "d504e61f",
   "metadata": {},
   "outputs": [
    {
     "data": {
      "text/plain": [
       "'   Pengolahan Data Terstruktur'"
      ]
     },
     "execution_count": 18,
     "metadata": {},
     "output_type": "execute_result"
    }
   ],
   "source": [
    "str3 = \"   Pengolahan Data Terstruktur   \"\n",
    "str3.rstrip()"
   ]
  },
  {
   "cell_type": "code",
   "execution_count": 19,
   "id": "b29145bf",
   "metadata": {},
   "outputs": [
    {
     "data": {
      "text/plain": [
       "'Pengolahan Data Terstruktur   '"
      ]
     },
     "execution_count": 19,
     "metadata": {},
     "output_type": "execute_result"
    }
   ],
   "source": [
    "str3 = \"Pengolahan Data Terstruktur   \"\n",
    "str3.lstrip()"
   ]
  },
  {
   "cell_type": "markdown",
   "id": "242323a0",
   "metadata": {},
   "source": [
    "o) Membandingkan Dua String"
   ]
  },
  {
   "cell_type": "code",
   "execution_count": 20,
   "id": "bcb0d847",
   "metadata": {},
   "outputs": [
    {
     "data": {
      "text/plain": [
       "False"
      ]
     },
     "execution_count": 20,
     "metadata": {},
     "output_type": "execute_result"
    }
   ],
   "source": [
    "str4 = \"Pengolahan Data Terstruktur\"\n",
    "str5 = \"Pengolahan Data Tidak Struktur\"\n",
    "str6 = \"Pengolahan Data Terstruktur\"\n",
    "(str4==str5)"
   ]
  },
  {
   "cell_type": "code",
   "execution_count": 21,
   "id": "3ea43172",
   "metadata": {},
   "outputs": [
    {
     "data": {
      "text/plain": [
       "True"
      ]
     },
     "execution_count": 21,
     "metadata": {},
     "output_type": "execute_result"
    }
   ],
   "source": [
    "str4 = \"Pengolahan Data Terstruktur\"\n",
    "str5 = \"Pengolahan Data Tidak Struktur\"\n",
    "str6 = \"Pengolahan Data Terstruktur\"\n",
    "(str4==str6)"
   ]
  },
  {
   "cell_type": "markdown",
   "id": "2b569df7",
   "metadata": {},
   "source": [
    "# List"
   ]
  },
  {
   "cell_type": "markdown",
   "id": "562e6366",
   "metadata": {},
   "source": [
    "a) Menampilkan List (Print)"
   ]
  },
  {
   "cell_type": "code",
   "execution_count": 22,
   "id": "4086e6cc",
   "metadata": {},
   "outputs": [
    {
     "name": "stdout",
     "output_type": "stream",
     "text": [
      "[89, 90, 91, 92, 97, 98]\n"
     ]
    }
   ],
   "source": [
    "list1 = [89, 90, 91, 92, 97, 98]\n",
    "print(list1)"
   ]
  },
  {
   "cell_type": "markdown",
   "id": "c5d1924a",
   "metadata": {},
   "source": [
    "b) Menampilkan Panjang Pada List (Len)"
   ]
  },
  {
   "cell_type": "code",
   "execution_count": 23,
   "id": "c19b2dd5",
   "metadata": {},
   "outputs": [
    {
     "data": {
      "text/plain": [
       "6"
      ]
     },
     "execution_count": 23,
     "metadata": {},
     "output_type": "execute_result"
    }
   ],
   "source": [
    "list1 = [89, 90, 91, 92, 97, 98]\n",
    "len(list1)"
   ]
  },
  {
   "cell_type": "markdown",
   "id": "cca14629",
   "metadata": {},
   "source": [
    "c) Mengakses Index Pada List (List Slices)"
   ]
  },
  {
   "cell_type": "code",
   "execution_count": 24,
   "id": "fadb1dad",
   "metadata": {},
   "outputs": [
    {
     "data": {
      "text/plain": [
       "89"
      ]
     },
     "execution_count": 24,
     "metadata": {},
     "output_type": "execute_result"
    }
   ],
   "source": [
    "list1 = [89, 90, 91, 92, 97, 98]\n",
    "list1[0]"
   ]
  },
  {
   "cell_type": "code",
   "execution_count": 25,
   "id": "6741ed82",
   "metadata": {},
   "outputs": [
    {
     "data": {
      "text/plain": [
       "[90, 91]"
      ]
     },
     "execution_count": 25,
     "metadata": {},
     "output_type": "execute_result"
    }
   ],
   "source": [
    "list1 = [89, 90, 91, 92, 97, 98]\n",
    "list1[1:3]"
   ]
  },
  {
   "cell_type": "code",
   "execution_count": 26,
   "id": "1e1623bd",
   "metadata": {},
   "outputs": [
    {
     "data": {
      "text/plain": [
       "[91, 92, 97, 98]"
      ]
     },
     "execution_count": 26,
     "metadata": {},
     "output_type": "execute_result"
    }
   ],
   "source": [
    "list1 = [89, 90, 91, 92, 97, 98]\n",
    "list1[2:]"
   ]
  },
  {
   "cell_type": "code",
   "execution_count": 27,
   "id": "deda0d9d",
   "metadata": {},
   "outputs": [
    {
     "data": {
      "text/plain": [
       "[89, 90, 91, 92]"
      ]
     },
     "execution_count": 27,
     "metadata": {},
     "output_type": "execute_result"
    }
   ],
   "source": [
    "list1 = [89, 90, 91, 92, 97, 98]\n",
    "list1[:4]"
   ]
  },
  {
   "cell_type": "markdown",
   "id": "36d51459",
   "metadata": {},
   "source": [
    "d) Menambahkan Suatu Nilai Pada List (Append)"
   ]
  },
  {
   "cell_type": "code",
   "execution_count": 28,
   "id": "eb38a02f",
   "metadata": {},
   "outputs": [
    {
     "data": {
      "text/plain": [
       "[89, 90, 91, 92, 97, 98, 99]"
      ]
     },
     "execution_count": 28,
     "metadata": {},
     "output_type": "execute_result"
    }
   ],
   "source": [
    "list1 = [89, 90, 91, 92, 97, 98]\n",
    "list1.append(99)\n",
    "list1"
   ]
  },
  {
   "cell_type": "markdown",
   "id": "a2583486",
   "metadata": {},
   "source": [
    "e) Mengganti Suatu Nilai Pada List (Update)"
   ]
  },
  {
   "cell_type": "code",
   "execution_count": 29,
   "id": "95aaa373",
   "metadata": {},
   "outputs": [
    {
     "data": {
      "text/plain": [
       "[89, 85, 91, 92, 97, 98]"
      ]
     },
     "execution_count": 29,
     "metadata": {},
     "output_type": "execute_result"
    }
   ],
   "source": [
    "list1 = [89, 90, 91, 92, 97, 98]\n",
    "list1[1] = 85\n",
    "list1"
   ]
  },
  {
   "cell_type": "markdown",
   "id": "381cc28d",
   "metadata": {},
   "source": [
    "f) Menyisipkan Suatu Nilai Di Index Tertentu Pada List (Insert)"
   ]
  },
  {
   "cell_type": "code",
   "execution_count": 30,
   "id": "fc63ae09",
   "metadata": {},
   "outputs": [
    {
     "data": {
      "text/plain": [
       "[89, 95, 90, 91, 92, 97, 98]"
      ]
     },
     "execution_count": 30,
     "metadata": {},
     "output_type": "execute_result"
    }
   ],
   "source": [
    "list1 = [89, 90, 91, 92, 97, 98]\n",
    "list1.insert(1, 95)\n",
    "list1"
   ]
  },
  {
   "cell_type": "markdown",
   "id": "4893cbdc",
   "metadata": {},
   "source": [
    "g) Menghapus Suatu Nilai Di Index Tertentu Pada List (Pop)"
   ]
  },
  {
   "cell_type": "code",
   "execution_count": 31,
   "id": "151ab19f",
   "metadata": {},
   "outputs": [
    {
     "data": {
      "text/plain": [
       "[89, 90, 91, 97, 98]"
      ]
     },
     "execution_count": 31,
     "metadata": {},
     "output_type": "execute_result"
    }
   ],
   "source": [
    "list1 = [89, 90, 91, 92, 97, 98]\n",
    "list1.pop(3)\n",
    "list1"
   ]
  },
  {
   "cell_type": "markdown",
   "id": "87b42093",
   "metadata": {},
   "source": [
    "h) Melakukan Sorting Pada List (Sort)"
   ]
  },
  {
   "cell_type": "code",
   "execution_count": 32,
   "id": "48e228e9",
   "metadata": {},
   "outputs": [
    {
     "data": {
      "text/plain": [
       "[89, 90, 91, 92, 97, 98]"
      ]
     },
     "execution_count": 32,
     "metadata": {},
     "output_type": "execute_result"
    }
   ],
   "source": [
    "list1 = [89, 90, 91, 92, 97, 98]\n",
    "list1.sort()\n",
    "list1"
   ]
  },
  {
   "cell_type": "markdown",
   "id": "cb330896",
   "metadata": {},
   "source": [
    "i) Menampilkan Berapa Kali Suatu Nilai Muncul Pada List (Count)"
   ]
  },
  {
   "cell_type": "code",
   "execution_count": 33,
   "id": "3b5080a8",
   "metadata": {},
   "outputs": [
    {
     "data": {
      "text/plain": [
       "2"
      ]
     },
     "execution_count": 33,
     "metadata": {},
     "output_type": "execute_result"
    }
   ],
   "source": [
    "list2 = [99, \"Aya\", 97, \"Niona\", 92, \"Aya\"]\n",
    "list2.count(\"Aya\")"
   ]
  },
  {
   "cell_type": "markdown",
   "id": "1390d8a2",
   "metadata": {},
   "source": [
    "j) Membalikkan Urutan Pada List (Reversed)"
   ]
  },
  {
   "cell_type": "code",
   "execution_count": 34,
   "id": "c5883432",
   "metadata": {},
   "outputs": [
    {
     "name": "stdout",
     "output_type": "stream",
     "text": [
      "91\n",
      "92\n",
      "94\n",
      "95\n",
      "96\n",
      "97\n",
      "99\n"
     ]
    }
   ],
   "source": [
    "list3 = [99, 97, 96, 95, 94, 92, 91]\n",
    "for n in reversed (list3):\n",
    "    print(n)"
   ]
  },
  {
   "cell_type": "markdown",
   "id": "1b20a49c",
   "metadata": {},
   "source": [
    "# Dictionary"
   ]
  },
  {
   "cell_type": "markdown",
   "id": "1be2d7a5",
   "metadata": {},
   "source": [
    "a) Menampilkan Dictionary (Print)"
   ]
  },
  {
   "cell_type": "code",
   "execution_count": 35,
   "id": "cba55513",
   "metadata": {},
   "outputs": [
    {
     "data": {
      "text/plain": [
       "{'A': '85', 'B': '80', 'C': '75'}"
      ]
     },
     "execution_count": 35,
     "metadata": {},
     "output_type": "execute_result"
    }
   ],
   "source": [
    "dic1 = {\"A\" : \"85\", \"B\" : \"80\", \"C\" : \"75\"}\n",
    "dic1"
   ]
  },
  {
   "cell_type": "markdown",
   "id": "9e9e183c",
   "metadata": {},
   "source": [
    "b) Menampilkan Panjang Pada Dictionary (Len)"
   ]
  },
  {
   "cell_type": "code",
   "execution_count": 36,
   "id": "f2be94c6",
   "metadata": {},
   "outputs": [
    {
     "data": {
      "text/plain": [
       "3"
      ]
     },
     "execution_count": 36,
     "metadata": {},
     "output_type": "execute_result"
    }
   ],
   "source": [
    "dic1 = {\"A\" : \"85\", \"B\" : \"80\", \"C\" : \"75\"}\n",
    "len(dic1)"
   ]
  },
  {
   "cell_type": "markdown",
   "id": "382af304",
   "metadata": {},
   "source": [
    "c) Mengakses Index Pada Dictionary (Get)"
   ]
  },
  {
   "cell_type": "code",
   "execution_count": 37,
   "id": "443dbbbf",
   "metadata": {},
   "outputs": [
    {
     "data": {
      "text/plain": [
       "'85'"
      ]
     },
     "execution_count": 37,
     "metadata": {},
     "output_type": "execute_result"
    }
   ],
   "source": [
    "dic1 = {\"A\" : \"85\", \"B\" : \"80\", \"C\" : \"75\"}\n",
    "dic1.get(\"A\")"
   ]
  },
  {
   "cell_type": "markdown",
   "id": "bdf98b69",
   "metadata": {},
   "source": [
    "d) Mengubah Suatu Nilai Dari Key Pada Dictionary (Get)"
   ]
  },
  {
   "cell_type": "code",
   "execution_count": 38,
   "id": "6a22f15f",
   "metadata": {},
   "outputs": [
    {
     "data": {
      "text/plain": [
       "'79'"
      ]
     },
     "execution_count": 38,
     "metadata": {},
     "output_type": "execute_result"
    }
   ],
   "source": [
    "dic1 = {\"A\" : \"85\", \"B\" : \"80\", \"C\" : \"75\"}\n",
    "dic1[\"C\"] = \"79\"\n",
    "dic1.get(\"C\")"
   ]
  },
  {
   "cell_type": "markdown",
   "id": "171944d6",
   "metadata": {},
   "source": [
    "e) Menambahkan Item Pada Dictionary "
   ]
  },
  {
   "cell_type": "code",
   "execution_count": 39,
   "id": "162218c5",
   "metadata": {},
   "outputs": [
    {
     "data": {
      "text/plain": [
       "{'A': '85', 'B': '80', 'C': '75', 'D': '70'}"
      ]
     },
     "execution_count": 39,
     "metadata": {},
     "output_type": "execute_result"
    }
   ],
   "source": [
    "dic1 = {\"A\" : \"85\", \"B\" : \"80\", \"C\" : \"75\"}\n",
    "dic1[\"D\"] = \"70\"\n",
    "dic1"
   ]
  },
  {
   "cell_type": "markdown",
   "id": "b81ff035",
   "metadata": {},
   "source": [
    "f) Menghapus Item Pada Dictionary (Delete)"
   ]
  },
  {
   "cell_type": "code",
   "execution_count": 40,
   "id": "755c32a3",
   "metadata": {},
   "outputs": [
    {
     "data": {
      "text/plain": [
       "{'Usia': '19', 'Asal': 'Sukabumi'}"
      ]
     },
     "execution_count": 40,
     "metadata": {},
     "output_type": "execute_result"
    }
   ],
   "source": [
    "dic2 = {\"Nama\" : \"Lyodra\", \"Usia\" : \"19\", \"Asal\" : \"Sukabumi\"}\n",
    "del dic2[\"Nama\"]\n",
    "dic2"
   ]
  },
  {
   "cell_type": "markdown",
   "id": "654a1031",
   "metadata": {},
   "source": [
    "g) Menggunakan Perulangan Untuk Mencetak Dictionary (Loop For)"
   ]
  },
  {
   "cell_type": "code",
   "execution_count": 41,
   "id": "705777d5",
   "metadata": {},
   "outputs": [
    {
     "name": "stdout",
     "output_type": "stream",
     "text": [
      "Lyodra\n",
      "19\n",
      "Sukabumi\n"
     ]
    }
   ],
   "source": [
    "dic2 = {\"Nama\" : \"Lyodra\", \"Usia\" : \"19\", \"Asal\" : \"Sukabumi\"}\n",
    "\n",
    "for n in dic2:\n",
    "    print(dic2[n])"
   ]
  },
  {
   "cell_type": "markdown",
   "id": "b5aa00f6",
   "metadata": {},
   "source": [
    "# 2. Membuat List 100 Nomor Random"
   ]
  },
  {
   "cell_type": "code",
   "execution_count": 80,
   "id": "5d078763",
   "metadata": {},
   "outputs": [
    {
     "name": "stdout",
     "output_type": "stream",
     "text": [
      "Di peroleh nilai - nilai dari selisih sebesar :  [72, 64, 73, 70, 71, 66, 80, 69, 68, 69]\n",
      "Di peroleh nilai rata - rata sebesar          :  70.2\n"
     ]
    }
   ],
   "source": [
    "import random as rd\n",
    "\n",
    "len_list = []\n",
    "for n in range(10):\n",
    "    number = []\n",
    "    divide = []\n",
    "    \n",
    "    for k in range(100):\n",
    "        random = rd.randint(1,100)\n",
    "        number.append(random)\n",
    "        if random % 3 == 0:\n",
    "            divide.append(random)\n",
    "            \n",
    "    div_list = len(number) - len(divide)\n",
    "    len_list.append(div_list)\n",
    "        \n",
    "average = sum(len_list) / len(len_list)\n",
    "\n",
    "print(\"Di peroleh nilai - nilai dari selisih sebesar : \", (len_list))\n",
    "print(\"Di peroleh nilai rata - rata sebesar          : \", (average))"
   ]
  },
  {
   "cell_type": "markdown",
   "id": "27be12c7",
   "metadata": {},
   "source": [
    "# B. Excercise Week 3"
   ]
  },
  {
   "cell_type": "markdown",
   "id": "574ed1a6",
   "metadata": {},
   "source": [
    "# 1. Menampilkan Data Dari HTML ke Dataframe Sesuai Dengan Yang Di Inginkan"
   ]
  },
  {
   "cell_type": "markdown",
   "id": "379981fd",
   "metadata": {},
   "source": [
    "a) Membaca Dan Menampilkan HTML"
   ]
  },
  {
   "cell_type": "code",
   "execution_count": 1,
   "id": "e85bd505",
   "metadata": {},
   "outputs": [
    {
     "data": {
      "text/plain": [
       "[               List of years in American television:\n",
       " 0                 2019 2020 2021 2022 2023 2024 2025\n",
       " 1            List of 2022 American television debuts\n",
       " 2  2021–22 United States network television schedule\n",
       " 3  2022–23 United States network television schedule\n",
       " 4  List of American television programs currently...,\n",
       "      First aired                    Title          Channel           Source\n",
       " 0      January 1            We Baby Bears  Cartoon Network              [1]\n",
       " 1      January 2         Alex vs. America     Food Network              [2]\n",
       " 2      January 2          Next Level Chef              Fox              [3]\n",
       " 3      January 3        The Cleaning Lady              Fox              [4]\n",
       " 4      January 3  Ugliest Home in America             HGTV           [5][6]\n",
       " ..           ...                      ...              ...              ...\n",
       " 301  December 15        Love for the Ages          Peacock            [340]\n",
       " 302  December 15              Sonic Prime          Netflix  [344][339][345]\n",
       " 303  December 16              The Recruit          Netflix            [346]\n",
       " 304  December 18                     1923       Paramount+       [347][348]\n",
       " 305  December 19                The Wheel              NBC       [349][350]\n",
       " \n",
       " [306 rows x 4 columns],\n",
       "      First aired                                              Title  \\\n",
       " 0      January 4          Gordon Ramsay's Road Trip: Greek Vacation   \n",
       " 1     January 14                                          The House   \n",
       " 2     January 14                             Ray Donovan: The Movie   \n",
       " 3     January 27                  Truth and Lies: The Last Gangster   \n",
       " 4     January 29                  Undeniable: The Truth to Remember   \n",
       " 5     January 31     Celebrating Betty White: America's Golden Girl   \n",
       " 6       March 20                             An Audience with Adele   \n",
       " 7       March 20  Step Into...The Movies With Derek and Julianne...   \n",
       " 8        April 2                               Whitney, A Look Back   \n",
       " 9       April 15                               Bill Maher: Adulting   \n",
       " 10      April 18            Elinor Wonders Why: A Wonderful Journey   \n",
       " 11        May 25                       The American Rescue Dog Show   \n",
       " 12        May 25    The Great American Tag Sale with Martha Stewart   \n",
       " 13        June 1                      South Park The Streaming Wars   \n",
       " 14        June 7   TMZ Presents Johnny vs. Amber: From Love to Hate   \n",
       " 15       June 16                                Martin: The Reunion   \n",
       " 16       June 23               Beavis and Butt-Head Do the Universe   \n",
       " 17        July 3                        Ukraine: Answering The Call   \n",
       " 18       July 13               South Park The Streaming Wars Part 2   \n",
       " 19       July 15                                          Zombies 3   \n",
       " 20   September 5                                      Out of Office   \n",
       " 21   September 8           Queen Elizabeth II: The Legacy, The Life   \n",
       " 22  September 22       Norman Lear: 100 Years of Music and Laughter   \n",
       " 23  September 30                                      Entergalactic   \n",
       " 24     October 3  A Sinister Halloween Scary Opposites Solar Spe...   \n",
       " 25     October 6                            Monster High: The Movie   \n",
       " 26     October 7                                  Werewolf by Night   \n",
       " 27   November 17                                            Pickled   \n",
       " 28   November 18                                       Best in Snow   \n",
       " 29   November 18                          Blue's Big City Adventure   \n",
       " 30   November 20                             A Waltons Thanksgiving   \n",
       " 31   November 25        The Guardians of the Galaxy Holiday Special   \n",
       " 32   November 27                             Mickey Saves Christmas   \n",
       " 33   November 27             Tis the Season: The Holidays on Screen   \n",
       " 34   November 27  The Wonderful World of Disney: Magical Holiday...   \n",
       " 35   November 27      The Howard Stern Interview: Bruce Springsteen   \n",
       " 36   November 29                                   Reindeer in Here   \n",
       " 37   November 29  Love, Actually: 20 Years Later – A Diane Sawye...   \n",
       " 38    December 1            Dolly Parton's Mountain Magic Christmas   \n",
       " 39    December 1                      Sesame Street: The Nutcracker   \n",
       " 40    December 2      Pentatonix: Around the World for the Holidays   \n",
       " 41    December 2                       Christmas With the Campbells   \n",
       " 42    December 2  The Great American Baking Show: Celebrity Holiday   \n",
       " 43    December 2                             Hotel for the Holidays   \n",
       " 44    December 3                  Reno 911!: It's a Wonderful Heist   \n",
       " 45    December 4                                  Fit for Christmas   \n",
       " 46    December 5                                      That's My Jam   \n",
       " 47    December 6                    Sebastian Maniscalco: Is It Me?   \n",
       " 48    December 7         The Greatest Holiday Commercials Countdown   \n",
       " 49    December 8                              CMA Country Christmas   \n",
       " 50    December 8                           Superstar: Reba McEntire   \n",
       " 51    December 9                    All I Didn't Want For Christmas   \n",
       " 52   December 11                                Must Love Christmas   \n",
       " 53   December 11                                      The Fireplace   \n",
       " 54   December 15           Beauty and the Beast: A 30th Celebration   \n",
       " 55   December 18                           When Christmas Was Young   \n",
       " 56   December 20              Mariah Carey: Merry Christmas to All!   \n",
       " 57   December 26                        Woooooo! Becoming Ric Flair   \n",
       " 58   December 30                                   This Place Rules   \n",
       " \n",
       "                                        Channel      Source  \n",
       " 0                                          Fox       [351]  \n",
       " 1                                      Netflix  [352][353]  \n",
       " 2                                     Showtime  [354][355]  \n",
       " 3                                          ABC       [356]  \n",
       " 4                                          CBS       [357]  \n",
       " 5                                          NBC       [358]  \n",
       " 6                                          NBC       [359]  \n",
       " 7                                          ABC       [360]  \n",
       " 8                                          CBS       [361]  \n",
       " 9                                          HBO       [362]  \n",
       " 10                                    PBS Kids       [363]  \n",
       " 11                                         ABC       [364]  \n",
       " 12                                         ABC       [364]  \n",
       " 13                                  Paramount+       [365]  \n",
       " 14                                         Fox       [366]  \n",
       " 15                                        BET+  [367][368]  \n",
       " 16                                  Paramount+       [369]  \n",
       " 17                                         NBC       [370]  \n",
       " 18                                  Paramount+       [371]  \n",
       " 19                                     Disney+       [372]  \n",
       " 20                              Comedy Central  [373][374]  \n",
       " 21                                         ABC       [375]  \n",
       " 22                                         ABC       [376]  \n",
       " 23                                     Netflix  [377][378]  \n",
       " 24                                        Hulu       [379]  \n",
       " 25                      Nickelodeon/Paramount+       [289]  \n",
       " 26                      Disney+/Marvel Studios       [380]  \n",
       " 27                                         CBS       [381]  \n",
       " 28                                     Disney+  [382][383]  \n",
       " 29                                  Paramount+       [384]  \n",
       " 30                                      The CW  [385][386]  \n",
       " 31                      Disney+/Marvel Studios       [387]  \n",
       " 32  ABC/Disney Channel/Disney Junior/Disney XD       [388]  \n",
       " 33                                         CNN       [334]  \n",
       " 34                                         ABC       [334]  \n",
       " 35                                         HBO       [334]  \n",
       " 36                                         CBS       [389]  \n",
       " 37                                         ABC       [334]  \n",
       " 38                                         NBC  [390][391]  \n",
       " 39                                     HBO Max       [392]  \n",
       " 40                                     Disney+       [334]  \n",
       " 41                                        AMC+       [334]  \n",
       " 42                            The Roku Channel       [334]  \n",
       " 43                              Amazon Freevee       [334]  \n",
       " 44                              Comedy Central       [393]  \n",
       " 45                                         CBS       [394]  \n",
       " 46                                         NBC       [336]  \n",
       " 47                                     Netflix       [336]  \n",
       " 48                                      The CW       [336]  \n",
       " 49                                         ABC       [336]  \n",
       " 50                                         ABC       [336]  \n",
       " 51                                         VH1       [395]  \n",
       " 52                                         CBS       [394]  \n",
       " 53                                  Adult Swim       [396]  \n",
       " 54                                         ABC       [397]  \n",
       " 55                                         CBS       [394]  \n",
       " 56                                         CBS       [398]  \n",
       " 57                                     Peacock       [399]  \n",
       " 58                                         HBO       [400]  ,\n",
       "     First aired                             Title                     Channel  \\\n",
       " 0     January 6             Women of the Movement                         ABC   \n",
       " 1     January 6                 Let the World See                         ABC   \n",
       " 2     January 6  Joe Montana: Cool Under Pressure                     Peacock   \n",
       " 3     January 6         Indivisible: Healing Hate                  Paramount+   \n",
       " 4     January 7                          El Deafo                   Apple TV+   \n",
       " ..          ...                               ...                         ...   \n",
       " 57   December 4                    George & Tammy  Showtime/Paramount Network   \n",
       " 58   December 8                    Harry & Meghan                     Netflix   \n",
       " 59  December 22  The Best Man: The Final Chapters                     Peacock   \n",
       " 60  December 25         The Witcher: Blood Origin                     Netflix   \n",
       " 61  December 27       Chef Dynasty: House of Fang                Food Network   \n",
       " \n",
       "         Source  \n",
       " 0   [401][402]  \n",
       " 1        [403]  \n",
       " 2        [404]  \n",
       " 3        [405]  \n",
       " 4        [406]  \n",
       " ..         ...  \n",
       " 57       [460]  \n",
       " 58       [461]  \n",
       " 59  [263][462]  \n",
       " 60  [463][464]  \n",
       " 61       [465]  \n",
       " \n",
       " [62 rows x 4 columns],\n",
       "   .mw-parser-output .navbar{display:inline;font-size:88%;font-weight:normal}.mw-parser-output .navbar-collapse{float:left;text-align:left}.mw-parser-output .navbar-boxtext{word-spacing:0}.mw-parser-output .navbar ul{display:inline-block;white-space:nowrap;line-height:inherit}.mw-parser-output .navbar-brackets::before{margin-right:-0.125em;content:\"[ \"}.mw-parser-output .navbar-brackets::after{margin-left:-0.125em;content:\" ]\"}.mw-parser-output .navbar li{word-spacing:-0.125em}.mw-parser-output .navbar a>span,.mw-parser-output .navbar a>abbr{text-decoration:inherit}.mw-parser-output .navbar-mini abbr{font-variant:small-caps;border-bottom:none;text-decoration:none;cursor:inherit}.mw-parser-output .navbar-ct-full{font-size:114%;margin:0 7em}.mw-parser-output .navbar-ct-mini{font-size:114%;margin:0 4em}vte2022 in television  \\\n",
       " 0  Albania Argentina Australia Belgium Brazil Can...                                                                                                                                                                                                                                                                                                                                                                                                                                                                                                                                                                                                                                                                                                                                                                                                              \n",
       " \n",
       "   .mw-parser-output .navbar{display:inline;font-size:88%;font-weight:normal}.mw-parser-output .navbar-collapse{float:left;text-align:left}.mw-parser-output .navbar-boxtext{word-spacing:0}.mw-parser-output .navbar ul{display:inline-block;white-space:nowrap;line-height:inherit}.mw-parser-output .navbar-brackets::before{margin-right:-0.125em;content:\"[ \"}.mw-parser-output .navbar-brackets::after{margin-left:-0.125em;content:\" ]\"}.mw-parser-output .navbar li{word-spacing:-0.125em}.mw-parser-output .navbar a>span,.mw-parser-output .navbar a>abbr{text-decoration:inherit}.mw-parser-output .navbar-mini abbr{font-variant:small-caps;border-bottom:none;text-decoration:none;cursor:inherit}.mw-parser-output .navbar-ct-full{font-size:114%;margin:0 7em}.mw-parser-output .navbar-ct-mini{font-size:114%;margin:0 4em}vte2022 in television.1  \n",
       " 0  Albania Argentina Australia Belgium Brazil Can...                                                                                                                                                                                                                                                                                                                                                                                                                                                                                                                                                                                                                                                                                                                                                                                                               ]"
      ]
     },
     "execution_count": 1,
     "metadata": {},
     "output_type": "execute_result"
    }
   ],
   "source": [
    "import pandas as pd\n",
    "\n",
    "data_html = \"https://en.wikipedia.org/wiki/List_of_2022_American_television_debuts\"\n",
    "dfs = pd.read_html(data_html)\n",
    "dfs"
   ]
  },
  {
   "cell_type": "markdown",
   "id": "d642c506",
   "metadata": {},
   "source": [
    "b) Menampilkan Panjang HTML"
   ]
  },
  {
   "cell_type": "code",
   "execution_count": 2,
   "id": "1d76e7c8",
   "metadata": {},
   "outputs": [
    {
     "name": "stdout",
     "output_type": "stream",
     "text": [
      "Di peroleh panjang HTML :   69\n"
     ]
    }
   ],
   "source": [
    "print(\"Di peroleh panjang HTML :  \", (len(data_html)))"
   ]
  },
  {
   "cell_type": "markdown",
   "id": "620c8c04",
   "metadata": {},
   "source": [
    "c) Menampilkan Tabel Miniseries"
   ]
  },
  {
   "cell_type": "code",
   "execution_count": 3,
   "id": "e7e19a78",
   "metadata": {},
   "outputs": [
    {
     "data": {
      "text/html": [
       "<div>\n",
       "<style scoped>\n",
       "    .dataframe tbody tr th:only-of-type {\n",
       "        vertical-align: middle;\n",
       "    }\n",
       "\n",
       "    .dataframe tbody tr th {\n",
       "        vertical-align: top;\n",
       "    }\n",
       "\n",
       "    .dataframe thead th {\n",
       "        text-align: right;\n",
       "    }\n",
       "</style>\n",
       "<table border=\"1\" class=\"dataframe\">\n",
       "  <thead>\n",
       "    <tr style=\"text-align: right;\">\n",
       "      <th></th>\n",
       "      <th>First aired</th>\n",
       "      <th>Title</th>\n",
       "      <th>Channel</th>\n",
       "      <th>Source</th>\n",
       "    </tr>\n",
       "  </thead>\n",
       "  <tbody>\n",
       "    <tr>\n",
       "      <th>0</th>\n",
       "      <td>January 6</td>\n",
       "      <td>Women of the Movement</td>\n",
       "      <td>ABC</td>\n",
       "      <td>[401][402]</td>\n",
       "    </tr>\n",
       "    <tr>\n",
       "      <th>1</th>\n",
       "      <td>January 6</td>\n",
       "      <td>Let the World See</td>\n",
       "      <td>ABC</td>\n",
       "      <td>[403]</td>\n",
       "    </tr>\n",
       "    <tr>\n",
       "      <th>2</th>\n",
       "      <td>January 6</td>\n",
       "      <td>Joe Montana: Cool Under Pressure</td>\n",
       "      <td>Peacock</td>\n",
       "      <td>[404]</td>\n",
       "    </tr>\n",
       "    <tr>\n",
       "      <th>3</th>\n",
       "      <td>January 6</td>\n",
       "      <td>Indivisible: Healing Hate</td>\n",
       "      <td>Paramount+</td>\n",
       "      <td>[405]</td>\n",
       "    </tr>\n",
       "    <tr>\n",
       "      <th>4</th>\n",
       "      <td>January 7</td>\n",
       "      <td>El Deafo</td>\n",
       "      <td>Apple TV+</td>\n",
       "      <td>[406]</td>\n",
       "    </tr>\n",
       "    <tr>\n",
       "      <th>...</th>\n",
       "      <td>...</td>\n",
       "      <td>...</td>\n",
       "      <td>...</td>\n",
       "      <td>...</td>\n",
       "    </tr>\n",
       "    <tr>\n",
       "      <th>57</th>\n",
       "      <td>December 4</td>\n",
       "      <td>George &amp; Tammy</td>\n",
       "      <td>Showtime/Paramount Network</td>\n",
       "      <td>[460]</td>\n",
       "    </tr>\n",
       "    <tr>\n",
       "      <th>58</th>\n",
       "      <td>December 8</td>\n",
       "      <td>Harry &amp; Meghan</td>\n",
       "      <td>Netflix</td>\n",
       "      <td>[461]</td>\n",
       "    </tr>\n",
       "    <tr>\n",
       "      <th>59</th>\n",
       "      <td>December 22</td>\n",
       "      <td>The Best Man: The Final Chapters</td>\n",
       "      <td>Peacock</td>\n",
       "      <td>[263][462]</td>\n",
       "    </tr>\n",
       "    <tr>\n",
       "      <th>60</th>\n",
       "      <td>December 25</td>\n",
       "      <td>The Witcher: Blood Origin</td>\n",
       "      <td>Netflix</td>\n",
       "      <td>[463][464]</td>\n",
       "    </tr>\n",
       "    <tr>\n",
       "      <th>61</th>\n",
       "      <td>December 27</td>\n",
       "      <td>Chef Dynasty: House of Fang</td>\n",
       "      <td>Food Network</td>\n",
       "      <td>[465]</td>\n",
       "    </tr>\n",
       "  </tbody>\n",
       "</table>\n",
       "<p>62 rows × 4 columns</p>\n",
       "</div>"
      ],
      "text/plain": [
       "    First aired                             Title                     Channel  \\\n",
       "0     January 6             Women of the Movement                         ABC   \n",
       "1     January 6                 Let the World See                         ABC   \n",
       "2     January 6  Joe Montana: Cool Under Pressure                     Peacock   \n",
       "3     January 6         Indivisible: Healing Hate                  Paramount+   \n",
       "4     January 7                          El Deafo                   Apple TV+   \n",
       "..          ...                               ...                         ...   \n",
       "57   December 4                    George & Tammy  Showtime/Paramount Network   \n",
       "58   December 8                    Harry & Meghan                     Netflix   \n",
       "59  December 22  The Best Man: The Final Chapters                     Peacock   \n",
       "60  December 25         The Witcher: Blood Origin                     Netflix   \n",
       "61  December 27       Chef Dynasty: House of Fang                Food Network   \n",
       "\n",
       "        Source  \n",
       "0   [401][402]  \n",
       "1        [403]  \n",
       "2        [404]  \n",
       "3        [405]  \n",
       "4        [406]  \n",
       "..         ...  \n",
       "57       [460]  \n",
       "58       [461]  \n",
       "59  [263][462]  \n",
       "60  [463][464]  \n",
       "61       [465]  \n",
       "\n",
       "[62 rows x 4 columns]"
      ]
     },
     "execution_count": 3,
     "metadata": {},
     "output_type": "execute_result"
    }
   ],
   "source": [
    "dfs[3]"
   ]
  },
  {
   "cell_type": "markdown",
   "id": "a68ddc4d",
   "metadata": {},
   "source": [
    "d) Menampilkan Ukuran Dataframe Tabel Miniseries"
   ]
  },
  {
   "cell_type": "code",
   "execution_count": 4,
   "id": "cc77b064",
   "metadata": {},
   "outputs": [
    {
     "data": {
      "text/plain": [
       "(62, 4)"
      ]
     },
     "execution_count": 4,
     "metadata": {},
     "output_type": "execute_result"
    }
   ],
   "source": [
    "dfs[3].shape"
   ]
  },
  {
   "cell_type": "markdown",
   "id": "d6c71a00",
   "metadata": {},
   "source": [
    "# 2. Menampilkan Data Tabel Dari PDF Ke Dataframe Sesuai Dengan Yang Di Inginkan"
   ]
  },
  {
   "cell_type": "markdown",
   "id": "b9606e72",
   "metadata": {},
   "source": [
    "a) Membaca Dan Menampilkan PDF"
   ]
  },
  {
   "cell_type": "code",
   "execution_count": 1,
   "id": "c5ea06a4",
   "metadata": {},
   "outputs": [
    {
     "data": {
      "text/plain": [
       "[   0.17004  12.5  7.87  0  0.524  6.004  85.9  6.5921  5  311\n",
       " 0  0.22489  12.5  7.87  0  0.524  6.377  94.3  6.3467  5  311\n",
       " 1  0.11747  12.5  7.87  0  0.524  6.009  82.9  6.2267  5  311\n",
       " 2  0.09378  12.5  7.87  0  0.524  5.889  39.0  5.4509  5  311,\n",
       "    15.2  386.71   17.1  18.9\n",
       " 0  15.2  392.52  20.45  15.0\n",
       " 1  15.2  396.90  13.27  18.9\n",
       " 2  15.2  390.50  15.71  21.7]"
      ]
     },
     "execution_count": 1,
     "metadata": {},
     "output_type": "execute_result"
    }
   ],
   "source": [
    "import tabula as tb\n",
    "\n",
    "data_pdf = \"Housing_data.pdf\"\n",
    "dfs = tb.read_pdf(data_pdf, pages = \"all\")\n",
    "dfs"
   ]
  },
  {
   "cell_type": "markdown",
   "id": "13486fad",
   "metadata": {},
   "source": [
    "b) Menampilkan Tabel Indeks 0"
   ]
  },
  {
   "cell_type": "code",
   "execution_count": 2,
   "id": "58253f77",
   "metadata": {},
   "outputs": [
    {
     "data": {
      "text/html": [
       "<div>\n",
       "<style scoped>\n",
       "    .dataframe tbody tr th:only-of-type {\n",
       "        vertical-align: middle;\n",
       "    }\n",
       "\n",
       "    .dataframe tbody tr th {\n",
       "        vertical-align: top;\n",
       "    }\n",
       "\n",
       "    .dataframe thead th {\n",
       "        text-align: right;\n",
       "    }\n",
       "</style>\n",
       "<table border=\"1\" class=\"dataframe\">\n",
       "  <thead>\n",
       "    <tr style=\"text-align: right;\">\n",
       "      <th></th>\n",
       "      <th>0.17004</th>\n",
       "      <th>12.5</th>\n",
       "      <th>7.87</th>\n",
       "      <th>0</th>\n",
       "      <th>0.524</th>\n",
       "      <th>6.004</th>\n",
       "      <th>85.9</th>\n",
       "      <th>6.5921</th>\n",
       "      <th>5</th>\n",
       "      <th>311</th>\n",
       "    </tr>\n",
       "  </thead>\n",
       "  <tbody>\n",
       "    <tr>\n",
       "      <th>0</th>\n",
       "      <td>0.22489</td>\n",
       "      <td>12.5</td>\n",
       "      <td>7.87</td>\n",
       "      <td>0</td>\n",
       "      <td>0.524</td>\n",
       "      <td>6.377</td>\n",
       "      <td>94.3</td>\n",
       "      <td>6.3467</td>\n",
       "      <td>5</td>\n",
       "      <td>311</td>\n",
       "    </tr>\n",
       "    <tr>\n",
       "      <th>1</th>\n",
       "      <td>0.11747</td>\n",
       "      <td>12.5</td>\n",
       "      <td>7.87</td>\n",
       "      <td>0</td>\n",
       "      <td>0.524</td>\n",
       "      <td>6.009</td>\n",
       "      <td>82.9</td>\n",
       "      <td>6.2267</td>\n",
       "      <td>5</td>\n",
       "      <td>311</td>\n",
       "    </tr>\n",
       "    <tr>\n",
       "      <th>2</th>\n",
       "      <td>0.09378</td>\n",
       "      <td>12.5</td>\n",
       "      <td>7.87</td>\n",
       "      <td>0</td>\n",
       "      <td>0.524</td>\n",
       "      <td>5.889</td>\n",
       "      <td>39.0</td>\n",
       "      <td>5.4509</td>\n",
       "      <td>5</td>\n",
       "      <td>311</td>\n",
       "    </tr>\n",
       "  </tbody>\n",
       "</table>\n",
       "</div>"
      ],
      "text/plain": [
       "   0.17004  12.5  7.87  0  0.524  6.004  85.9  6.5921  5  311\n",
       "0  0.22489  12.5  7.87  0  0.524  6.377  94.3  6.3467  5  311\n",
       "1  0.11747  12.5  7.87  0  0.524  6.009  82.9  6.2267  5  311\n",
       "2  0.09378  12.5  7.87  0  0.524  5.889  39.0  5.4509  5  311"
      ]
     },
     "execution_count": 2,
     "metadata": {},
     "output_type": "execute_result"
    }
   ],
   "source": [
    "dfs[0]"
   ]
  },
  {
   "cell_type": "markdown",
   "id": "78620787",
   "metadata": {},
   "source": [
    "c) Menampilkan Tabel Indeks 1"
   ]
  },
  {
   "cell_type": "code",
   "execution_count": 3,
   "id": "27ae54a5",
   "metadata": {},
   "outputs": [
    {
     "data": {
      "text/html": [
       "<div>\n",
       "<style scoped>\n",
       "    .dataframe tbody tr th:only-of-type {\n",
       "        vertical-align: middle;\n",
       "    }\n",
       "\n",
       "    .dataframe tbody tr th {\n",
       "        vertical-align: top;\n",
       "    }\n",
       "\n",
       "    .dataframe thead th {\n",
       "        text-align: right;\n",
       "    }\n",
       "</style>\n",
       "<table border=\"1\" class=\"dataframe\">\n",
       "  <thead>\n",
       "    <tr style=\"text-align: right;\">\n",
       "      <th></th>\n",
       "      <th>15.2</th>\n",
       "      <th>386.71</th>\n",
       "      <th>17.1</th>\n",
       "      <th>18.9</th>\n",
       "    </tr>\n",
       "  </thead>\n",
       "  <tbody>\n",
       "    <tr>\n",
       "      <th>0</th>\n",
       "      <td>15.2</td>\n",
       "      <td>392.52</td>\n",
       "      <td>20.45</td>\n",
       "      <td>15.0</td>\n",
       "    </tr>\n",
       "    <tr>\n",
       "      <th>1</th>\n",
       "      <td>15.2</td>\n",
       "      <td>396.90</td>\n",
       "      <td>13.27</td>\n",
       "      <td>18.9</td>\n",
       "    </tr>\n",
       "    <tr>\n",
       "      <th>2</th>\n",
       "      <td>15.2</td>\n",
       "      <td>390.50</td>\n",
       "      <td>15.71</td>\n",
       "      <td>21.7</td>\n",
       "    </tr>\n",
       "  </tbody>\n",
       "</table>\n",
       "</div>"
      ],
      "text/plain": [
       "   15.2  386.71   17.1  18.9\n",
       "0  15.2  392.52  20.45  15.0\n",
       "1  15.2  396.90  13.27  18.9\n",
       "2  15.2  390.50  15.71  21.7"
      ]
     },
     "execution_count": 3,
     "metadata": {},
     "output_type": "execute_result"
    }
   ],
   "source": [
    "dfs[1]"
   ]
  }
 ],
 "metadata": {
  "kernelspec": {
   "display_name": "Python 3 (ipykernel)",
   "language": "python",
   "name": "python3"
  },
  "language_info": {
   "codemirror_mode": {
    "name": "ipython",
    "version": 3
   },
   "file_extension": ".py",
   "mimetype": "text/x-python",
   "name": "python",
   "nbconvert_exporter": "python",
   "pygments_lexer": "ipython3",
   "version": "3.9.12"
  }
 },
 "nbformat": 4,
 "nbformat_minor": 5
}
